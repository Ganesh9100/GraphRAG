{
  "nbformat": 4,
  "nbformat_minor": 0,
  "metadata": {
    "colab": {
      "provenance": [],
      "gpuType": "T4"
    },
    "kernelspec": {
      "name": "python3",
      "display_name": "Python 3"
    },
    "language_info": {
      "name": "python"
    },
    "accelerator": "GPU"
  },
  "cells": [
    {
      "cell_type": "code",
      "execution_count": 1,
      "metadata": {
        "colab": {
          "base_uri": "https://localhost:8080/"
        },
        "id": "WYhB2OARw_Nq",
        "outputId": "686e06ad-fcaf-428c-ec1f-cdbc9bf50984"
      },
      "outputs": [
        {
          "output_type": "stream",
          "name": "stdout",
          "text": [
            "\u001b[?25l   \u001b[90m━━━━━━━━━━━━━━━━━━━━━━━━━━━━━━━━━━━━━━━━\u001b[0m \u001b[32m0.0/2.5 MB\u001b[0m \u001b[31m?\u001b[0m eta \u001b[36m-:--:--\u001b[0m\r\u001b[2K   \u001b[91m━━━━━━━━━━━━━━━━━━━━━━━━━\u001b[0m\u001b[91m╸\u001b[0m\u001b[90m━━━━━━━━━━━━━━\u001b[0m \u001b[32m1.6/2.5 MB\u001b[0m \u001b[31m48.2 MB/s\u001b[0m eta \u001b[36m0:00:01\u001b[0m\r\u001b[2K   \u001b[90m━━━━━━━━━━━━━━━━━━━━━━━━━━━━━━━━━━━━━━━━\u001b[0m \u001b[32m2.5/2.5 MB\u001b[0m \u001b[31m42.3 MB/s\u001b[0m eta \u001b[36m0:00:00\u001b[0m\n",
            "\u001b[2K   \u001b[90m━━━━━━━━━━━━━━━━━━━━━━━━━━━━━━━━━━━━━━━━\u001b[0m \u001b[32m312.3/312.3 kB\u001b[0m \u001b[31m23.4 MB/s\u001b[0m eta \u001b[36m0:00:00\u001b[0m\n",
            "\u001b[2K   \u001b[90m━━━━━━━━━━━━━━━━━━━━━━━━━━━━━━━━━━━━━━━━\u001b[0m \u001b[32m124.9/124.9 kB\u001b[0m \u001b[31m12.7 MB/s\u001b[0m eta \u001b[36m0:00:00\u001b[0m\n",
            "\u001b[2K   \u001b[90m━━━━━━━━━━━━━━━━━━━━━━━━━━━━━━━━━━━━━━━━\u001b[0m \u001b[32m50.9/50.9 kB\u001b[0m \u001b[31m3.6 MB/s\u001b[0m eta \u001b[36m0:00:00\u001b[0m\n",
            "\u001b[?25h"
          ]
        }
      ],
      "source": [
        "!pip install --upgrade --quiet  langchain langchain-community langchain-groq neo4j"
      ]
    },
    {
      "cell_type": "code",
      "source": [
        "## Graphdb configuration\n",
        "NEO4J_URI=\"neo4j+s://b315cc04.databass.neo4j.io\"\n",
        "NEO4J_USERNAME=\"neo4j\"\n",
        "NEO4J_PASSWORD=\"-Ibwlw_k4\"\n",
        "\n",
        "# Wait 60 seconds before connecting using these details, or login to https://console.neo4j.io to validate the Aura Instance is available\n",
        "NEO4J_URI=\"neo4j+s://6b6fed6a.databases.neo4j.io\"\n",
        "NEO4J_USERNAME=\"neo4j\"\n",
        "NEO4J_PASSWORD=\"Su9qAhlHtnDCO5l2HOCEwNYqOQTk5p_bzJJHHKm6MjQ\"\n",
        "# AURA_INSTANCEID=6b6fed6a\n",
        "# AURA_INSTANCENAME=Free instance\n",
        "\n"
      ],
      "metadata": {
        "id": "OBL8Iqs4xoeh"
      },
      "execution_count": 2,
      "outputs": []
    },
    {
      "cell_type": "code",
      "source": [
        "import os\n",
        "os.environ[\"NEO4J_URI\"]=NEO4J_URI\n",
        "os.environ[\"NEO4J_USERNAME\"]=NEO4J_USERNAME\n",
        "os.environ[\"NEO4J_PASSWORD\"]=NEO4J_PASSWORD"
      ],
      "metadata": {
        "id": "uDS6XHgbycee"
      },
      "execution_count": 3,
      "outputs": []
    },
    {
      "cell_type": "code",
      "source": [
        "from langchain_community.graphs import Neo4jGraph\n",
        "graph=Neo4jGraph(\n",
        "    url=NEO4J_URI,\n",
        "    username=NEO4J_USERNAME,\n",
        "    password=NEO4J_PASSWORD,\n",
        ")"
      ],
      "metadata": {
        "id": "5rikUUiCymWG"
      },
      "execution_count": 5,
      "outputs": []
    },
    {
      "cell_type": "code",
      "source": [
        "graph"
      ],
      "metadata": {
        "colab": {
          "base_uri": "https://localhost:8080/"
        },
        "id": "j6Zy5Bc_y1oN",
        "outputId": "abf57a23-b159-4c2f-9a50-339417e27c67"
      },
      "execution_count": 6,
      "outputs": [
        {
          "output_type": "execute_result",
          "data": {
            "text/plain": [
              "<langchain_community.graphs.neo4j_graph.Neo4jGraph at 0x7e713cbd24d0>"
            ]
          },
          "metadata": {},
          "execution_count": 6
        }
      ]
    },
    {
      "cell_type": "code",
      "source": [
        "groq_api_key=\"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\""
      ],
      "metadata": {
        "id": "55sZpcz8y2dx"
      },
      "execution_count": 7,
      "outputs": []
    },
    {
      "cell_type": "code",
      "source": [
        "from langchain_groq import ChatGroq\n",
        "\n",
        "llm=ChatGroq(groq_api_key=groq_api_key,model_name=\"Gemma2-9b-It\")\n",
        "llm"
      ],
      "metadata": {
        "colab": {
          "base_uri": "https://localhost:8080/"
        },
        "id": "YtqR-fXVzxXZ",
        "outputId": "00d276d4-81d7-4caa-a806-4e2b5b042ae4"
      },
      "execution_count": 8,
      "outputs": [
        {
          "output_type": "execute_result",
          "data": {
            "text/plain": [
              "ChatGroq(client=<groq.resources.chat.completions.Completions object at 0x7e713a5ce650>, async_client=<groq.resources.chat.completions.AsyncCompletions object at 0x7e7139f97150>, model_name='Gemma2-9b-It', model_kwargs={}, groq_api_key=SecretStr('**********'))"
            ]
          },
          "metadata": {},
          "execution_count": 8
        }
      ]
    },
    {
      "cell_type": "code",
      "source": [
        "from langchain_core.documents import Document\n",
        "text = \"\"\"\n",
        "Pick your perfect plan\n",
        "Buy more, save more on America's most reliable 5G network¹See one citation below for more information about plan\n",
        "\n",
        "Payment Frequency\n",
        "\n",
        "1 month\n",
        "How many lines do you need?\n",
        "\n",
        "\n",
        "1\n",
        "\n",
        "\n",
        "\n",
        "\n",
        "\n",
        "\n",
        "\n",
        "\n",
        "\n",
        "\n",
        "\n",
        "\n",
        "\n",
        "\n",
        "\n",
        "\n",
        "\n",
        "\n",
        "\n",
        "\n",
        "\n",
        "\n",
        "\n",
        "\n",
        "\n",
        "\n",
        "\n",
        "\n",
        "\n",
        "\n",
        "\n",
        "\n",
        "\n",
        "\n",
        "Cross citation Some premium plan features only available to customers on the Verizon network. All other customers can expect:\n",
        "\n",
        "Platinum Unlimited: an LTE network, 20 GB hotspot, international calling to 60 + countries, no anniversary device credit, no home internet discount.\n",
        "\n",
        "Get full list of disclaimers\n",
        "Read Terms and Conditions\n",
        "Broadband Facts (4Items)\n",
        "Want to compare plans? Read the labels to get the details on pricing, data allowances and limits, network speeds, and more.\n",
        "\n",
        "\n",
        "Platinum UnlimitedSee cross citation below for more information about plan\n",
        "$65 /mo\n",
        "\n",
        "Price is 65 dollars and 0 cents per month\n",
        "$60/mo with Auto Pay\n",
        "\n",
        "$60 per month with Auto Pay\n",
        "Broadband Facts\n",
        "Straight Talk Wireless\n",
        "\n",
        "Platinum Unlimited\n",
        "\n",
        "Mobile Broadband Consumer Disclosure\n",
        "\n",
        "Monthly Price\n",
        "\n",
        "$65.00\n",
        "\n",
        "This Monthly Price is not an introductory rate.\n",
        "\n",
        "This Monthly Price does not require a contract.\n",
        "\n",
        "Additional Charges & Terms\n",
        "\n",
        "Activation Fee\n",
        "\n",
        "$0.00\n",
        "\n",
        "Provider Monthly Fees\n",
        "\n",
        "$0.00\n",
        "\n",
        "One-Time Fees at the Time of Purchase\n",
        "\n",
        "Federal Universal Service Fund\n",
        "\n",
        "$0.37\n",
        "\n",
        "Regulatory Cost Recovery\n",
        "\n",
        "$0.13\n",
        "\n",
        "Early Termination Fee\n",
        "\n",
        "$0.00\n",
        "\n",
        "Government Taxes\n",
        "\n",
        "Varies by location\n",
        "\n",
        "Discounts & Bundles\n",
        "\n",
        "Click here for available discounts and pricing options for broadband service bundled with other services like video, phones, and wireless services, and use of your own equipment like modem or routers.\n",
        "\n",
        "\n",
        "Speeds Provided with Plan\n",
        "\n",
        "5G Ultra Wideband\n",
        "\n",
        "Typical Download Speed\n",
        "\n",
        "195-634 Mbps\n",
        "\n",
        "Typical Upload Speed\n",
        "\n",
        "10-53 Mbps\n",
        "\n",
        "Typical Latency\n",
        "\n",
        "37-57 ms\n",
        "\n",
        "5G\n",
        "\n",
        "Typical Download Speed\n",
        "\n",
        "35-143 Mbps\n",
        "\n",
        "Typical Upload Speed\n",
        "\n",
        "5-31 Mbps\n",
        "\n",
        "Typical Latency\n",
        "\n",
        "42-64 ms\n",
        "\n",
        "4G LTE\n",
        "\n",
        "Typical Download Speed\n",
        "\n",
        "11-75 Mbps\n",
        "\n",
        "Typical Upload Speed\n",
        "\n",
        "1-13 Mbps\n",
        "\n",
        "Typical Latency\n",
        "\n",
        "49-75 ms\n",
        "\n",
        "Data Included with Monthly Price\n",
        "\n",
        "Unlimited\n",
        "\n",
        "Charges for additional Data Usage\n",
        "\n",
        "$0.00\n",
        "\n",
        "Network Management\n",
        "\n",
        "Read our Policy\n",
        "\n",
        "Privacy\n",
        "\n",
        "Read our Policy\n",
        "\n",
        "Customer Support\n",
        "\n",
        "Contact Us: https://www.straighttalk.com/support/contact\n",
        "\n",
        "1-877-430-2355\n",
        "\n",
        "Learn more about the terms used on this label by visiting the Federal Communications Commission's Consumer Resource Center.\n",
        "\n",
        "fcc.gov/consumer\n",
        "\n",
        "M0006855639ST0000957009143\n",
        "\n",
        "Broadband Facts Label Ends for Platinum Unlimited\n",
        "Back to plan summary\n",
        "\n",
        "Gold UnlimitedSee cross citation below for more information about plan\n",
        "$55 /mo\n",
        "\n",
        "Price is 55 dollars and 0 cents per month\n",
        "$50/mo with Auto Pay\n",
        "\n",
        "$50 per month with Auto Pay\n",
        "Broadband Facts\n",
        "Straight Talk Wireless\n",
        "\n",
        "Gold Unlimited\n",
        "\n",
        "Mobile Broadband Consumer Disclosure\n",
        "\n",
        "Monthly Price\n",
        "\n",
        "$55.00\n",
        "\n",
        "This Monthly Price is not an introductory rate.\n",
        "\n",
        "This Monthly Price does not require a contract.\n",
        "\n",
        "Additional Charges & Terms\n",
        "\n",
        "Activation Fee\n",
        "\n",
        "$0.00\n",
        "\n",
        "Provider Monthly Fees\n",
        "\n",
        "$0.00\n",
        "\n",
        "One-Time Fees at the Time of Purchase\n",
        "\n",
        "Federal Universal Service Fund\n",
        "\n",
        "$0.30\n",
        "\n",
        "Regulatory Cost Recovery\n",
        "\n",
        "$0.11\n",
        "\n",
        "Early Termination Fee\n",
        "\n",
        "$0.00\n",
        "\n",
        "Government Taxes\n",
        "\n",
        "Varies by location\n",
        "\n",
        "Discounts & Bundles\n",
        "\n",
        "Click here for available discounts and pricing options for broadband service bundled with other services like video, phones, and wireless services, and use of your own equipment like modem or routers.\n",
        "\n",
        "\n",
        "Speeds Provided with Plan\n",
        "\n",
        "5G Ultra Wideband\n",
        "\n",
        "Typical Download Speed\n",
        "\n",
        "195-634 Mbps\n",
        "\n",
        "Typical Upload Speed\n",
        "\n",
        "10-53 Mbps\n",
        "\n",
        "Typical Latency\n",
        "\n",
        "37-57 ms\n",
        "\n",
        "5G\n",
        "\n",
        "Typical Download Speed\n",
        "\n",
        "35-143 Mbps\n",
        "\n",
        "Typical Upload Speed\n",
        "\n",
        "5-31 Mbps\n",
        "\n",
        "Typical Latency\n",
        "\n",
        "42-64 ms\n",
        "\n",
        "4G LTE\n",
        "\n",
        "Typical Download Speed\n",
        "\n",
        "11-75 Mbps\n",
        "\n",
        "Typical Upload Speed\n",
        "\n",
        "1-13 Mbps\n",
        "\n",
        "Typical Latency\n",
        "\n",
        "49-75 ms\n",
        "\n",
        "Data Included with Monthly Price\n",
        "\n",
        "Unlimited\n",
        "\n",
        "Charges for additional Data Usage\n",
        "\n",
        "$0.00\n",
        "\n",
        "Network Management\n",
        "\n",
        "Read our Policy\n",
        "\n",
        "Privacy\n",
        "\n",
        "Read our Policy\n",
        "\n",
        "Customer Support\n",
        "\n",
        "Contact Us: https://www.straighttalk.com/support/contact\n",
        "\n",
        "1-877-430-2355\n",
        "\n",
        "Learn more about the terms used on this label by visiting the Federal Communications Commission's Consumer Resource Center.\n",
        "\n",
        "fcc.gov/consumer\n",
        "\n",
        "M0006855639ST0000924009140\n",
        "\n",
        "Broadband Facts Label Ends for Gold Unlimited\n",
        "Back to plan summary\n",
        "\n",
        "Silver Unlimited\n",
        "$45 /mo\n",
        "\n",
        "Price is 45 dollars and 0 cents per month\n",
        "$42.50/mo with Auto Pay\n",
        "\n",
        "$42.50 per month with Auto Pay\n",
        "Broadband Facts\n",
        "Straight Talk Wireless\n",
        "\n",
        "Silver Unlimited\n",
        "\n",
        "Mobile Broadband Consumer Disclosure\n",
        "\n",
        "Monthly Price\n",
        "\n",
        "$45.00\n",
        "\n",
        "This Monthly Price is not an introductory rate.\n",
        "\n",
        "This Monthly Price does not require a contract.\n",
        "\n",
        "Additional Charges & Terms\n",
        "\n",
        "Activation Fee\n",
        "\n",
        "$0.00\n",
        "\n",
        "Provider Monthly Fees\n",
        "\n",
        "$0.00\n",
        "\n",
        "One-Time Fees at the Time of Purchase\n",
        "\n",
        "Federal Universal Service Fund\n",
        "\n",
        "$0.26\n",
        "\n",
        "Regulatory Cost Recovery\n",
        "\n",
        "$0.09\n",
        "\n",
        "Early Termination Fee\n",
        "\n",
        "$0.00\n",
        "\n",
        "Government Taxes\n",
        "\n",
        "Varies by location\n",
        "\n",
        "Discounts & Bundles\n",
        "\n",
        "Click here for available discounts and pricing options for broadband service bundled with other services like video, phones, and wireless services, and use of your own equipment like modem or routers.\n",
        "\n",
        "\n",
        "Speeds Provided with Plan\n",
        "\n",
        "5G\n",
        "\n",
        "Typical Download Speed\n",
        "\n",
        "34-149 Mbps\n",
        "\n",
        "Typical Upload Speed\n",
        "\n",
        "6-37 Mbps\n",
        "\n",
        "Typical Latency\n",
        "\n",
        "42-63 ms\n",
        "\n",
        "4G LTE\n",
        "\n",
        "Typical Download Speed\n",
        "\n",
        "9-69 Mbps\n",
        "\n",
        "Typical Upload Speed\n",
        "\n",
        "1-13 Mbps\n",
        "\n",
        "Typical Latency\n",
        "\n",
        "51-82 ms\n",
        "\n",
        "Data Included with Monthly Price\n",
        "\n",
        "Unlimited\n",
        "\n",
        "Charges for additional Data Usage\n",
        "\n",
        "$0.00\n",
        "\n",
        "Network Management\n",
        "\n",
        "Read our Policy\n",
        "\"\"\"\n",
        "documents=[Document(page_content=text)]\n",
        "documents"
      ],
      "metadata": {
        "colab": {
          "base_uri": "https://localhost:8080/"
        },
        "id": "tMw2lopJ0XnX",
        "outputId": "f1b02d8b-c81f-4cf0-ace7-49b0d0585ebe"
      },
      "execution_count": 9,
      "outputs": [
        {
          "output_type": "execute_result",
          "data": {
            "text/plain": [
              "[Document(metadata={}, page_content=\"\\nPick your perfect plan\\nBuy more, save more on America's most reliable 5G network¹See one citation below for more information about plan\\n\\nPayment Frequency\\n\\n1 month\\nHow many lines do you need?\\n\\n\\n1\\n\\n\\n\\n\\n\\n\\n\\n\\n\\n\\n\\n\\n\\n\\n\\n\\n\\n\\n\\n\\n\\n\\n\\n\\n\\n\\n\\n\\n\\n\\n\\n\\n\\n\\nCross citation Some premium plan features only available to customers on the Verizon network. All other customers can expect:\\n\\nPlatinum Unlimited: an LTE network, 20 GB hotspot, international calling to 60 + countries, no anniversary device credit, no home internet discount.\\n\\nGet full list of disclaimers\\nRead Terms and Conditions\\nBroadband Facts (4Items)\\nWant to compare plans? Read the labels to get the details on pricing, data allowances and limits, network speeds, and more.\\n\\n\\nPlatinum UnlimitedSee cross citation below for more information about plan\\n$65 /mo\\n\\nPrice is 65 dollars and 0 cents per month\\n$60/mo with Auto Pay\\n\\n$60 per month with Auto Pay\\nBroadband Facts\\nStraight Talk Wireless\\n\\nPlatinum Unlimited\\n\\nMobile Broadband Consumer Disclosure\\n\\nMonthly Price\\n\\n$65.00\\n\\nThis Monthly Price is not an introductory rate.\\n\\nThis Monthly Price does not require a contract.\\n\\nAdditional Charges & Terms\\n\\nActivation Fee\\n\\n$0.00\\n\\nProvider Monthly Fees\\n\\n$0.00\\n\\nOne-Time Fees at the Time of Purchase\\n\\nFederal Universal Service Fund\\n\\n$0.37\\n\\nRegulatory Cost Recovery\\n\\n$0.13\\n\\nEarly Termination Fee\\n\\n$0.00\\n\\nGovernment Taxes\\n\\nVaries by location\\n\\nDiscounts & Bundles\\n\\nClick here for available discounts and pricing options for broadband service bundled with other services like video, phones, and wireless services, and use of your own equipment like modem or routers.\\n\\n\\nSpeeds Provided with Plan\\n\\n5G Ultra Wideband\\n\\nTypical Download Speed\\n\\n195-634 Mbps\\n\\nTypical Upload Speed\\n\\n10-53 Mbps\\n\\nTypical Latency\\n\\n37-57 ms\\n\\n5G\\n\\nTypical Download Speed\\n\\n35-143 Mbps\\n\\nTypical Upload Speed\\n\\n5-31 Mbps\\n\\nTypical Latency\\n\\n42-64 ms\\n\\n4G LTE\\n\\nTypical Download Speed\\n\\n11-75 Mbps\\n\\nTypical Upload Speed\\n\\n1-13 Mbps\\n\\nTypical Latency\\n\\n49-75 ms\\n\\nData Included with Monthly Price\\n\\nUnlimited\\n\\nCharges for additional Data Usage\\n\\n$0.00\\n\\nNetwork Management\\n\\nRead our Policy\\n\\nPrivacy\\n\\nRead our Policy\\n\\nCustomer Support\\n\\nContact Us: https://www.straighttalk.com/support/contact\\n\\n1-877-430-2355\\n\\nLearn more about the terms used on this label by visiting the Federal Communications Commission's Consumer Resource Center.\\n\\nfcc.gov/consumer\\n\\nM0006855639ST0000957009143\\n\\nBroadband Facts Label Ends for Platinum Unlimited\\nBack to plan summary\\n\\nGold UnlimitedSee cross citation below for more information about plan\\n$55 /mo\\n\\nPrice is 55 dollars and 0 cents per month\\n$50/mo with Auto Pay\\n\\n$50 per month with Auto Pay\\nBroadband Facts\\nStraight Talk Wireless\\n\\nGold Unlimited\\n\\nMobile Broadband Consumer Disclosure\\n\\nMonthly Price\\n\\n$55.00\\n\\nThis Monthly Price is not an introductory rate.\\n\\nThis Monthly Price does not require a contract.\\n\\nAdditional Charges & Terms\\n\\nActivation Fee\\n\\n$0.00\\n\\nProvider Monthly Fees\\n\\n$0.00\\n\\nOne-Time Fees at the Time of Purchase\\n\\nFederal Universal Service Fund\\n\\n$0.30\\n\\nRegulatory Cost Recovery\\n\\n$0.11\\n\\nEarly Termination Fee\\n\\n$0.00\\n\\nGovernment Taxes\\n\\nVaries by location\\n\\nDiscounts & Bundles\\n\\nClick here for available discounts and pricing options for broadband service bundled with other services like video, phones, and wireless services, and use of your own equipment like modem or routers.\\n\\n\\nSpeeds Provided with Plan\\n\\n5G Ultra Wideband\\n\\nTypical Download Speed\\n\\n195-634 Mbps\\n\\nTypical Upload Speed\\n\\n10-53 Mbps\\n\\nTypical Latency\\n\\n37-57 ms\\n\\n5G\\n\\nTypical Download Speed\\n\\n35-143 Mbps\\n\\nTypical Upload Speed\\n\\n5-31 Mbps\\n\\nTypical Latency\\n\\n42-64 ms\\n\\n4G LTE\\n\\nTypical Download Speed\\n\\n11-75 Mbps\\n\\nTypical Upload Speed\\n\\n1-13 Mbps\\n\\nTypical Latency\\n\\n49-75 ms\\n\\nData Included with Monthly Price\\n\\nUnlimited\\n\\nCharges for additional Data Usage\\n\\n$0.00\\n\\nNetwork Management\\n\\nRead our Policy\\n\\nPrivacy\\n\\nRead our Policy\\n\\nCustomer Support\\n\\nContact Us: https://www.straighttalk.com/support/contact\\n\\n1-877-430-2355\\n\\nLearn more about the terms used on this label by visiting the Federal Communications Commission's Consumer Resource Center.\\n\\nfcc.gov/consumer\\n\\nM0006855639ST0000924009140\\n\\nBroadband Facts Label Ends for Gold Unlimited\\nBack to plan summary\\n\\nSilver Unlimited\\n$45 /mo\\n\\nPrice is 45 dollars and 0 cents per month\\n$42.50/mo with Auto Pay\\n\\n$42.50 per month with Auto Pay\\nBroadband Facts\\nStraight Talk Wireless\\n\\nSilver Unlimited\\n\\nMobile Broadband Consumer Disclosure\\n\\nMonthly Price\\n\\n$45.00\\n\\nThis Monthly Price is not an introductory rate.\\n\\nThis Monthly Price does not require a contract.\\n\\nAdditional Charges & Terms\\n\\nActivation Fee\\n\\n$0.00\\n\\nProvider Monthly Fees\\n\\n$0.00\\n\\nOne-Time Fees at the Time of Purchase\\n\\nFederal Universal Service Fund\\n\\n$0.26\\n\\nRegulatory Cost Recovery\\n\\n$0.09\\n\\nEarly Termination Fee\\n\\n$0.00\\n\\nGovernment Taxes\\n\\nVaries by location\\n\\nDiscounts & Bundles\\n\\nClick here for available discounts and pricing options for broadband service bundled with other services like video, phones, and wireless services, and use of your own equipment like modem or routers.\\n\\n\\nSpeeds Provided with Plan\\n\\n5G\\n\\nTypical Download Speed\\n\\n34-149 Mbps\\n\\nTypical Upload Speed\\n\\n6-37 Mbps\\n\\nTypical Latency\\n\\n42-63 ms\\n\\n4G LTE\\n\\nTypical Download Speed\\n\\n9-69 Mbps\\n\\nTypical Upload Speed\\n\\n1-13 Mbps\\n\\nTypical Latency\\n\\n51-82 ms\\n\\nData Included with Monthly Price\\n\\nUnlimited\\n\\nCharges for additional Data Usage\\n\\n$0.00\\n\\nNetwork Management\\n\\nRead our Policy\\n\")]"
            ]
          },
          "metadata": {},
          "execution_count": 9
        }
      ]
    },
    {
      "cell_type": "code",
      "source": [
        "!pip install --upgrade --quiet langchain_experimental"
      ],
      "metadata": {
        "colab": {
          "base_uri": "https://localhost:8080/"
        },
        "id": "6mbEhsdS1Y0N",
        "outputId": "3a2f8b9d-2d24-49eb-e1b9-af132c69cc9b"
      },
      "execution_count": 10,
      "outputs": [
        {
          "output_type": "stream",
          "name": "stdout",
          "text": [
            "\u001b[?25l   \u001b[90m━━━━━━━━━━━━━━━━━━━━━━━━━━━━━━━━━━━━━━━━\u001b[0m \u001b[32m0.0/209.2 kB\u001b[0m \u001b[31m?\u001b[0m eta \u001b[36m-:--:--\u001b[0m\r\u001b[2K   \u001b[91m━━━━━━━━━━━━━━━━━━━━━━━━━━━━━━━━━━━━━━━\u001b[0m\u001b[90m╺\u001b[0m \u001b[32m204.8/209.2 kB\u001b[0m \u001b[31m7.1 MB/s\u001b[0m eta \u001b[36m0:00:01\u001b[0m\r\u001b[2K   \u001b[90m━━━━━━━━━━━━━━━━━━━━━━━━━━━━━━━━━━━━━━━━\u001b[0m \u001b[32m209.2/209.2 kB\u001b[0m \u001b[31m5.3 MB/s\u001b[0m eta \u001b[36m0:00:00\u001b[0m\n",
            "\u001b[?25h"
          ]
        }
      ]
    },
    {
      "cell_type": "code",
      "source": [
        "from langchain_experimental.graph_transformers import LLMGraphTransformer\n",
        "llm_transformer=LLMGraphTransformer(llm=llm)"
      ],
      "metadata": {
        "id": "8ripzwTX0q1X"
      },
      "execution_count": 11,
      "outputs": []
    },
    {
      "cell_type": "code",
      "source": [
        "graph_documents=llm_transformer.convert_to_graph_documents(documents)"
      ],
      "metadata": {
        "id": "QedL67iH1ujK"
      },
      "execution_count": 12,
      "outputs": []
    },
    {
      "cell_type": "code",
      "source": [
        "graph_documents"
      ],
      "metadata": {
        "colab": {
          "base_uri": "https://localhost:8080/"
        },
        "id": "uAdF2BZm13w4",
        "outputId": "0ed6b4e6-6390-4cc7-9b10-d5d9b9139e62"
      },
      "execution_count": 13,
      "outputs": [
        {
          "output_type": "execute_result",
          "data": {
            "text/plain": [
              "[GraphDocument(nodes=[Node(id='Platinum Unlimited', type='Plan', properties={}), Node(id='Gold Unlimited', type='Plan', properties={}), Node(id='Silver Unlimited', type='Plan', properties={})], relationships=[Relationship(source=Node(id='Platinum Unlimited', type='Plan', properties={}), target=Node(id='5G Ultra Wideband', type='Network', properties={}), type='USES', properties={}), Relationship(source=Node(id='Gold Unlimited', type='Plan', properties={}), target=Node(id='5G Ultra Wideband', type='Network', properties={}), type='USES', properties={}), Relationship(source=Node(id='Silver Unlimited', type='Plan', properties={}), target=Node(id='5G', type='Network', properties={}), type='USES', properties={})], source=Document(metadata={}, page_content=\"\\nPick your perfect plan\\nBuy more, save more on America's most reliable 5G network¹See one citation below for more information about plan\\n\\nPayment Frequency\\n\\n1 month\\nHow many lines do you need?\\n\\n\\n1\\n\\n\\n\\n\\n\\n\\n\\n\\n\\n\\n\\n\\n\\n\\n\\n\\n\\n\\n\\n\\n\\n\\n\\n\\n\\n\\n\\n\\n\\n\\n\\n\\n\\n\\nCross citation Some premium plan features only available to customers on the Verizon network. All other customers can expect:\\n\\nPlatinum Unlimited: an LTE network, 20 GB hotspot, international calling to 60 + countries, no anniversary device credit, no home internet discount.\\n\\nGet full list of disclaimers\\nRead Terms and Conditions\\nBroadband Facts (4Items)\\nWant to compare plans? Read the labels to get the details on pricing, data allowances and limits, network speeds, and more.\\n\\n\\nPlatinum UnlimitedSee cross citation below for more information about plan\\n$65 /mo\\n\\nPrice is 65 dollars and 0 cents per month\\n$60/mo with Auto Pay\\n\\n$60 per month with Auto Pay\\nBroadband Facts\\nStraight Talk Wireless\\n\\nPlatinum Unlimited\\n\\nMobile Broadband Consumer Disclosure\\n\\nMonthly Price\\n\\n$65.00\\n\\nThis Monthly Price is not an introductory rate.\\n\\nThis Monthly Price does not require a contract.\\n\\nAdditional Charges & Terms\\n\\nActivation Fee\\n\\n$0.00\\n\\nProvider Monthly Fees\\n\\n$0.00\\n\\nOne-Time Fees at the Time of Purchase\\n\\nFederal Universal Service Fund\\n\\n$0.37\\n\\nRegulatory Cost Recovery\\n\\n$0.13\\n\\nEarly Termination Fee\\n\\n$0.00\\n\\nGovernment Taxes\\n\\nVaries by location\\n\\nDiscounts & Bundles\\n\\nClick here for available discounts and pricing options for broadband service bundled with other services like video, phones, and wireless services, and use of your own equipment like modem or routers.\\n\\n\\nSpeeds Provided with Plan\\n\\n5G Ultra Wideband\\n\\nTypical Download Speed\\n\\n195-634 Mbps\\n\\nTypical Upload Speed\\n\\n10-53 Mbps\\n\\nTypical Latency\\n\\n37-57 ms\\n\\n5G\\n\\nTypical Download Speed\\n\\n35-143 Mbps\\n\\nTypical Upload Speed\\n\\n5-31 Mbps\\n\\nTypical Latency\\n\\n42-64 ms\\n\\n4G LTE\\n\\nTypical Download Speed\\n\\n11-75 Mbps\\n\\nTypical Upload Speed\\n\\n1-13 Mbps\\n\\nTypical Latency\\n\\n49-75 ms\\n\\nData Included with Monthly Price\\n\\nUnlimited\\n\\nCharges for additional Data Usage\\n\\n$0.00\\n\\nNetwork Management\\n\\nRead our Policy\\n\\nPrivacy\\n\\nRead our Policy\\n\\nCustomer Support\\n\\nContact Us: https://www.straighttalk.com/support/contact\\n\\n1-877-430-2355\\n\\nLearn more about the terms used on this label by visiting the Federal Communications Commission's Consumer Resource Center.\\n\\nfcc.gov/consumer\\n\\nM0006855639ST0000957009143\\n\\nBroadband Facts Label Ends for Platinum Unlimited\\nBack to plan summary\\n\\nGold UnlimitedSee cross citation below for more information about plan\\n$55 /mo\\n\\nPrice is 55 dollars and 0 cents per month\\n$50/mo with Auto Pay\\n\\n$50 per month with Auto Pay\\nBroadband Facts\\nStraight Talk Wireless\\n\\nGold Unlimited\\n\\nMobile Broadband Consumer Disclosure\\n\\nMonthly Price\\n\\n$55.00\\n\\nThis Monthly Price is not an introductory rate.\\n\\nThis Monthly Price does not require a contract.\\n\\nAdditional Charges & Terms\\n\\nActivation Fee\\n\\n$0.00\\n\\nProvider Monthly Fees\\n\\n$0.00\\n\\nOne-Time Fees at the Time of Purchase\\n\\nFederal Universal Service Fund\\n\\n$0.30\\n\\nRegulatory Cost Recovery\\n\\n$0.11\\n\\nEarly Termination Fee\\n\\n$0.00\\n\\nGovernment Taxes\\n\\nVaries by location\\n\\nDiscounts & Bundles\\n\\nClick here for available discounts and pricing options for broadband service bundled with other services like video, phones, and wireless services, and use of your own equipment like modem or routers.\\n\\n\\nSpeeds Provided with Plan\\n\\n5G Ultra Wideband\\n\\nTypical Download Speed\\n\\n195-634 Mbps\\n\\nTypical Upload Speed\\n\\n10-53 Mbps\\n\\nTypical Latency\\n\\n37-57 ms\\n\\n5G\\n\\nTypical Download Speed\\n\\n35-143 Mbps\\n\\nTypical Upload Speed\\n\\n5-31 Mbps\\n\\nTypical Latency\\n\\n42-64 ms\\n\\n4G LTE\\n\\nTypical Download Speed\\n\\n11-75 Mbps\\n\\nTypical Upload Speed\\n\\n1-13 Mbps\\n\\nTypical Latency\\n\\n49-75 ms\\n\\nData Included with Monthly Price\\n\\nUnlimited\\n\\nCharges for additional Data Usage\\n\\n$0.00\\n\\nNetwork Management\\n\\nRead our Policy\\n\\nPrivacy\\n\\nRead our Policy\\n\\nCustomer Support\\n\\nContact Us: https://www.straighttalk.com/support/contact\\n\\n1-877-430-2355\\n\\nLearn more about the terms used on this label by visiting the Federal Communications Commission's Consumer Resource Center.\\n\\nfcc.gov/consumer\\n\\nM0006855639ST0000924009140\\n\\nBroadband Facts Label Ends for Gold Unlimited\\nBack to plan summary\\n\\nSilver Unlimited\\n$45 /mo\\n\\nPrice is 45 dollars and 0 cents per month\\n$42.50/mo with Auto Pay\\n\\n$42.50 per month with Auto Pay\\nBroadband Facts\\nStraight Talk Wireless\\n\\nSilver Unlimited\\n\\nMobile Broadband Consumer Disclosure\\n\\nMonthly Price\\n\\n$45.00\\n\\nThis Monthly Price is not an introductory rate.\\n\\nThis Monthly Price does not require a contract.\\n\\nAdditional Charges & Terms\\n\\nActivation Fee\\n\\n$0.00\\n\\nProvider Monthly Fees\\n\\n$0.00\\n\\nOne-Time Fees at the Time of Purchase\\n\\nFederal Universal Service Fund\\n\\n$0.26\\n\\nRegulatory Cost Recovery\\n\\n$0.09\\n\\nEarly Termination Fee\\n\\n$0.00\\n\\nGovernment Taxes\\n\\nVaries by location\\n\\nDiscounts & Bundles\\n\\nClick here for available discounts and pricing options for broadband service bundled with other services like video, phones, and wireless services, and use of your own equipment like modem or routers.\\n\\n\\nSpeeds Provided with Plan\\n\\n5G\\n\\nTypical Download Speed\\n\\n34-149 Mbps\\n\\nTypical Upload Speed\\n\\n6-37 Mbps\\n\\nTypical Latency\\n\\n42-63 ms\\n\\n4G LTE\\n\\nTypical Download Speed\\n\\n9-69 Mbps\\n\\nTypical Upload Speed\\n\\n1-13 Mbps\\n\\nTypical Latency\\n\\n51-82 ms\\n\\nData Included with Monthly Price\\n\\nUnlimited\\n\\nCharges for additional Data Usage\\n\\n$0.00\\n\\nNetwork Management\\n\\nRead our Policy\\n\"))]"
            ]
          },
          "metadata": {},
          "execution_count": 13
        }
      ]
    },
    {
      "cell_type": "code",
      "source": [
        "graph_documents[0].nodes"
      ],
      "metadata": {
        "colab": {
          "base_uri": "https://localhost:8080/"
        },
        "id": "h3pSzKLE2OJj",
        "outputId": "9a55cb6e-b560-4477-d707-7775eb2b9740"
      },
      "execution_count": 14,
      "outputs": [
        {
          "output_type": "execute_result",
          "data": {
            "text/plain": [
              "[Node(id='Platinum Unlimited', type='Plan', properties={}),\n",
              " Node(id='Gold Unlimited', type='Plan', properties={}),\n",
              " Node(id='Silver Unlimited', type='Plan', properties={})]"
            ]
          },
          "metadata": {},
          "execution_count": 14
        }
      ]
    },
    {
      "cell_type": "code",
      "source": [
        "graph_documents[0].relationships"
      ],
      "metadata": {
        "colab": {
          "base_uri": "https://localhost:8080/"
        },
        "id": "DvvdoA5W2fEZ",
        "outputId": "34397020-7e47-4fb8-fb00-b3981ecba1ef"
      },
      "execution_count": 15,
      "outputs": [
        {
          "output_type": "execute_result",
          "data": {
            "text/plain": [
              "[Relationship(source=Node(id='Platinum Unlimited', type='Plan', properties={}), target=Node(id='5G Ultra Wideband', type='Network', properties={}), type='USES', properties={}),\n",
              " Relationship(source=Node(id='Gold Unlimited', type='Plan', properties={}), target=Node(id='5G Ultra Wideband', type='Network', properties={}), type='USES', properties={}),\n",
              " Relationship(source=Node(id='Silver Unlimited', type='Plan', properties={}), target=Node(id='5G', type='Network', properties={}), type='USES', properties={})]"
            ]
          },
          "metadata": {},
          "execution_count": 15
        }
      ]
    },
    {
      "cell_type": "code",
      "source": [
        "movie_query = \"\"\"// Create a Provider node\n",
        "CREATE (p:Provider {name: 'Provider A'})\n",
        "\n",
        "// Create a Plan node\n",
        "CREATE (pl:Plan {\n",
        "  name: 'Plan A',\n",
        "  planType: '5G',\n",
        "  monthlyPrice: 50.0,\n",
        "  introductoryPart: 'N/A',\n",
        "  activationFee: 0,\n",
        "  providerMonthlyFees: 10,\n",
        "  oneTimeFees: 20,\n",
        "  federalServiceFund: 5,\n",
        "  regulatoryCostRecovery: 3,\n",
        "  earlyTerminationFee: 100,\n",
        "  governmentTaxes: 'Applicable',\n",
        "  discountsBundles: 'Available'\n",
        "})\n",
        "\n",
        "// Create relationship between provider and plan\n",
        "CREATE (p)-[:OFFERS]->(pl)\n",
        "\n",
        "// Create Network nodes\n",
        "CREATE (n5G:Network {type: '5G', downloadSpeed: 100, uploadSpeed: 50, latency: 10})\n",
        "CREATE (n4G:Network {type: '4G LTE', downloadSpeed: 50, uploadSpeed: 20, latency: 30})\n",
        "\n",
        "// Connect Networks to Plan\n",
        "CREATE (pl)-[:HAS_NETWORK]->(n5G)\n",
        "CREATE (pl)-[:HAS_NETWORK]->(n4G)\n",
        "\n",
        "// Create Data node\n",
        "CREATE (d:Data {includedMonthly: 500, additionalCharges: 2})\n",
        "CREATE (pl)-[:INCLUDES_DATA]->(d)\n",
        "\n",
        "// Create Support node\n",
        "CREATE (s:Support {email: 'support@providerA.com', phone: '123-456-7890'})\n",
        "CREATE (pl)-[:HAS_SUPPORT]->(s)\n",
        "\n",
        "// Create Privacy and Learn More nodes\n",
        "CREATE (pr:Privacy {details: 'Strict data privacy'})\n",
        "CREATE (f:LearnMore {description: 'More information available', link: 'https://fcc.gov/providerA'})\n",
        "CREATE (pl)-[:HAS_PRIVACY_POLICY]->(pr)\n",
        "CREATE (pl)-[:LEARN_MORE]->(f)\n",
        "\"\"\""
      ],
      "metadata": {
        "id": "EPOewFsm5DZv"
      },
      "execution_count": 42,
      "outputs": []
    },
    {
      "cell_type": "code",
      "source": [
        "graph"
      ],
      "metadata": {
        "colab": {
          "base_uri": "https://localhost:8080/"
        },
        "id": "UeRdr8nm7rAw",
        "outputId": "b0d52da7-aa13-403b-edd8-f900474ed8ca"
      },
      "execution_count": 43,
      "outputs": [
        {
          "output_type": "execute_result",
          "data": {
            "text/plain": [
              "<langchain_community.graphs.neo4j_graph.Neo4jGraph at 0x7e713cbd24d0>"
            ]
          },
          "metadata": {},
          "execution_count": 43
        }
      ]
    },
    {
      "cell_type": "code",
      "source": [
        "graph.query(movie_query)"
      ],
      "metadata": {
        "colab": {
          "base_uri": "https://localhost:8080/"
        },
        "id": "6YeLz1st7rp2",
        "outputId": "69e2f9d8-bad3-4024-858d-dc1fbb927b2e"
      },
      "execution_count": 44,
      "outputs": [
        {
          "output_type": "execute_result",
          "data": {
            "text/plain": [
              "[]"
            ]
          },
          "metadata": {},
          "execution_count": 44
        }
      ]
    },
    {
      "cell_type": "code",
      "source": [
        "graph.refresh_schema()\n",
        "print(graph.schema)"
      ],
      "metadata": {
        "colab": {
          "base_uri": "https://localhost:8080/"
        },
        "id": "nQm5agJA7xnH",
        "outputId": "8a86adb9-f79b-4366-b9fa-709569b5c8ff"
      },
      "execution_count": 45,
      "outputs": [
        {
          "output_type": "stream",
          "name": "stdout",
          "text": [
            "Node properties:\n",
            "Provider {name: STRING}\n",
            "Plan {name: STRING, price: FLOAT, autoPayPrice: FLOAT, introductoryPart: STRING, federalServiceFund: INTEGER, regulatoryCostRecovery: INTEGER, governmentTaxes: STRING, planType: STRING, activationFee: INTEGER, discountsBundles: STRING, oneTimeFees: INTEGER, providerMonthlyFees: INTEGER, earlyTerminationFee: INTEGER, monthlyPrice: FLOAT}\n",
            "Network {downloadSpeed: STRING, latency: STRING, uploadSpeed: STRING, type: STRING}\n",
            "Data {includedMonthly: INTEGER, additionalCharges: INTEGER}\n",
            "Support {phone: STRING, email: STRING}\n",
            "Privacy {details: STRING}\n",
            "LearnMore {link: STRING, description: STRING}\n",
            "Relationship properties:\n",
            "\n",
            "The relationships:\n",
            "(:Provider)-[:OFFERS]->(:Plan)\n",
            "(:Plan)-[:USES_NETWORK]->(:Network)\n",
            "(:Plan)-[:HAS_NETWORK]->(:Network)\n",
            "(:Plan)-[:INCLUDES_DATA]->(:Data)\n",
            "(:Plan)-[:HAS_SUPPORT]->(:Support)\n",
            "(:Plan)-[:HAS_PRIVACY_POLICY]->(:Privacy)\n",
            "(:Plan)-[:LEARN_MORE]->(:LearnMore)\n"
          ]
        }
      ]
    },
    {
      "cell_type": "code",
      "source": [
        "from langchain.chains import GraphCypherQAChain\n",
        "chain=GraphCypherQAChain.from_llm(llm=llm,graph=graph,verbose=True,allow_dangerous_requests=True)\n",
        "chain"
      ],
      "metadata": {
        "colab": {
          "base_uri": "https://localhost:8080/"
        },
        "id": "tGUot6uZ8wnj",
        "outputId": "0202183e-6b3f-467f-96f1-0052fb0cd8ca"
      },
      "execution_count": 46,
      "outputs": [
        {
          "output_type": "execute_result",
          "data": {
            "text/plain": [
              "GraphCypherQAChain(verbose=True, graph=<langchain_community.graphs.neo4j_graph.Neo4jGraph object at 0x7e713cbd24d0>, cypher_generation_chain=LLMChain(verbose=False, prompt=PromptTemplate(input_variables=['question', 'schema'], input_types={}, partial_variables={}, template='Task:Generate Cypher statement to query a graph database.\\nInstructions:\\nUse only the provided relationship types and properties in the schema.\\nDo not use any other relationship types or properties that are not provided.\\nSchema:\\n{schema}\\nNote: Do not include any explanations or apologies in your responses.\\nDo not respond to any questions that might ask anything else than for you to construct a Cypher statement.\\nDo not include any text except the generated Cypher statement.\\n\\nThe question is:\\n{question}'), llm=ChatGroq(client=<groq.resources.chat.completions.Completions object at 0x7e713a5ce650>, async_client=<groq.resources.chat.completions.AsyncCompletions object at 0x7e7139f97150>, model_name='Gemma2-9b-It', model_kwargs={}, groq_api_key=SecretStr('**********')), output_parser=StrOutputParser(), llm_kwargs={}), qa_chain=LLMChain(verbose=False, prompt=PromptTemplate(input_variables=['context', 'question'], input_types={}, partial_variables={}, template=\"You are an assistant that helps to form nice and human understandable answers.\\nThe information part contains the provided information that you must use to construct an answer.\\nThe provided information is authoritative, you must never doubt it or try to use your internal knowledge to correct it.\\nMake the answer sound as a response to the question. Do not mention that you based the result on the given information.\\nHere is an example:\\n\\nQuestion: Which managers own Neo4j stocks?\\nContext:[manager:CTL LLC, manager:JANE STREET GROUP LLC]\\nHelpful Answer: CTL LLC, JANE STREET GROUP LLC owns Neo4j stocks.\\n\\nFollow this example when generating answers.\\nIf the provided information is empty, say that you don't know the answer.\\nInformation:\\n{context}\\n\\nQuestion: {question}\\nHelpful Answer:\"), llm=ChatGroq(client=<groq.resources.chat.completions.Completions object at 0x7e713a5ce650>, async_client=<groq.resources.chat.completions.AsyncCompletions object at 0x7e7139f97150>, model_name='Gemma2-9b-It', model_kwargs={}, groq_api_key=SecretStr('**********')), output_parser=StrOutputParser(), llm_kwargs={}), graph_schema='Node properties are the following:\\nProvider {name: STRING},Plan {name: STRING, price: FLOAT, autoPayPrice: FLOAT, introductoryPart: STRING, federalServiceFund: INTEGER, regulatoryCostRecovery: INTEGER, governmentTaxes: STRING, planType: STRING, activationFee: INTEGER, discountsBundles: STRING, oneTimeFees: INTEGER, providerMonthlyFees: INTEGER, earlyTerminationFee: INTEGER, monthlyPrice: FLOAT},Network {downloadSpeed: STRING, latency: STRING, uploadSpeed: STRING, type: STRING},Data {includedMonthly: INTEGER, additionalCharges: INTEGER},Support {phone: STRING, email: STRING},Privacy {details: STRING},LearnMore {link: STRING, description: STRING}\\nRelationship properties are the following:\\n\\nThe relationships are the following:\\n(:Provider)-[:OFFERS]->(:Plan),(:Plan)-[:USES_NETWORK]->(:Network),(:Plan)-[:HAS_NETWORK]->(:Network),(:Plan)-[:INCLUDES_DATA]->(:Data),(:Plan)-[:HAS_SUPPORT]->(:Support),(:Plan)-[:HAS_PRIVACY_POLICY]->(:Privacy),(:Plan)-[:LEARN_MORE]->(:LearnMore)', allow_dangerous_requests=True)"
            ]
          },
          "metadata": {},
          "execution_count": 46
        }
      ]
    },
    {
      "cell_type": "code",
      "source": [
        "response=chain.invoke({\"query\":\"Explain Golden Plan\"})\n",
        "\n",
        "response\n"
      ],
      "metadata": {
        "colab": {
          "base_uri": "https://localhost:8080/"
        },
        "id": "53tukPgo9Ab9",
        "outputId": "888d94c0-ae34-439d-9270-83992a2638de"
      },
      "execution_count": 47,
      "outputs": [
        {
          "output_type": "stream",
          "name": "stdout",
          "text": [
            "\n",
            "\n",
            "\u001b[1m> Entering new GraphCypherQAChain chain...\u001b[0m\n",
            "Generated Cypher:\n",
            "\u001b[32;1m\u001b[1;3mMATCH (p:Provider)-[:OFFERS]->(g:Plan {name: \"Golden Plan\"})-[:HAS_NETWORK]->(n:Network)\n",
            "RETURN p.name, g.name, g.price, n.downloadSpeed, n.latency, n.uploadSpeed \n",
            "\u001b[0m\n",
            "Full Context:\n",
            "\u001b[32;1m\u001b[1;3m[]\u001b[0m\n",
            "\n",
            "\u001b[1m> Finished chain.\u001b[0m\n"
          ]
        },
        {
          "output_type": "execute_result",
          "data": {
            "text/plain": [
              "{'query': 'Explain Golden Plan', 'result': \"I don't know the answer. \\n\"}"
            ]
          },
          "metadata": {},
          "execution_count": 47
        }
      ]
    },
    {
      "cell_type": "code",
      "source": [
        "response=chain.invoke({\"query\":\"tell me the genre of th movie GoldenEye\"})\n",
        "\n",
        "response"
      ],
      "metadata": {
        "colab": {
          "base_uri": "https://localhost:8080/"
        },
        "id": "mlipgwFC9WD4",
        "outputId": "fa13a949-9ef7-40d4-b4ab-8e9166100918"
      },
      "execution_count": null,
      "outputs": [
        {
          "output_type": "stream",
          "name": "stdout",
          "text": [
            "\n",
            "\n",
            "\u001b[1m> Entering new GraphCypherQAChain chain...\u001b[0m\n",
            "Generated Cypher:\n",
            "\u001b[32;1m\u001b[1;3mMATCH (m:Movie {title: \"GoldenEye\"})-[:IN_GENRE]->(g:Genre) RETURN g.name \n",
            "\u001b[0m\n",
            "Full Context:\n",
            "\u001b[32;1m\u001b[1;3m[{'g.name': 'Adventure'}, {'g.name': 'Action'}, {'g.name': 'Thriller'}]\u001b[0m\n",
            "\n",
            "\u001b[1m> Finished chain.\u001b[0m\n"
          ]
        },
        {
          "output_type": "execute_result",
          "data": {
            "text/plain": [
              "{'query': 'tell me the genre of th movie GoldenEye',\n",
              " 'result': 'Adventure, Action, Thriller \\n'}"
            ]
          },
          "metadata": {},
          "execution_count": 27
        }
      ]
    },
    {
      "cell_type": "code",
      "source": [
        "response=chain.invoke({\"query\":\"Who was the director in movie Casino\"})\n",
        "\n",
        "response"
      ],
      "metadata": {
        "colab": {
          "base_uri": "https://localhost:8080/"
        },
        "id": "Sjfw-Dzp9gN4",
        "outputId": "42225b44-1104-43d9-9ea4-3b5a3cca7b90"
      },
      "execution_count": null,
      "outputs": [
        {
          "output_type": "stream",
          "name": "stdout",
          "text": [
            "\n",
            "\n",
            "\u001b[1m> Entering new GraphCypherQAChain chain...\u001b[0m\n",
            "Generated Cypher:\n",
            "\u001b[32;1m\u001b[1;3mMATCH (m:Movie{title:\"Casino\"})<-[:DIRECTED]-(p:Person)\n",
            "RETURN p.name \n",
            "\u001b[0m\n",
            "Full Context:\n",
            "\u001b[32;1m\u001b[1;3m[{'p.name': 'Martin Scorsese'}]\u001b[0m\n",
            "\n",
            "\u001b[1m> Finished chain.\u001b[0m\n"
          ]
        },
        {
          "output_type": "execute_result",
          "data": {
            "text/plain": [
              "{'query': 'Who was the director in movie Casino',\n",
              " 'result': 'Martin Scorsese  \\n'}"
            ]
          },
          "metadata": {},
          "execution_count": 32
        }
      ]
    },
    {
      "cell_type": "code",
      "source": [
        "response=chain.invoke({\"query\":\"Which movie were released in 2008\"})\n",
        "\n",
        "response"
      ],
      "metadata": {
        "colab": {
          "base_uri": "https://localhost:8080/"
        },
        "id": "ksOQww5J-Dqa",
        "outputId": "14490e81-4e6f-45a0-d554-ef563275e8bf"
      },
      "execution_count": null,
      "outputs": [
        {
          "output_type": "stream",
          "name": "stdout",
          "text": [
            "\n",
            "\n",
            "\u001b[1m> Entering new GraphCypherQAChain chain...\u001b[0m\n",
            "Generated Cypher:\n",
            "\u001b[32;1m\u001b[1;3mMATCH (m:Movie) WHERE m.released = 2008 RETURN m.title \n",
            "\u001b[0m\n",
            "Full Context:\n",
            "\u001b[32;1m\u001b[1;3m[{'m.title': 'Ironman'}]\u001b[0m\n",
            "\n",
            "\u001b[1m> Finished chain.\u001b[0m\n"
          ]
        },
        {
          "output_type": "execute_result",
          "data": {
            "text/plain": [
              "{'query': 'Which movie were released in 2008',\n",
              " 'result': \"I don't know the answer. \\n\"}"
            ]
          },
          "metadata": {},
          "execution_count": 35
        }
      ]
    },
    {
      "cell_type": "code",
      "source": [
        "response=chain.invoke({\"query\":\"Give me the list of movie having imdb rating more than 8\"})\n",
        "response"
      ],
      "metadata": {
        "colab": {
          "base_uri": "https://localhost:8080/"
        },
        "id": "ca614gfG-2ge",
        "outputId": "4f3ea6a6-6221-461b-b874-4e5b7dd2115b"
      },
      "execution_count": null,
      "outputs": [
        {
          "output_type": "stream",
          "name": "stdout",
          "text": [
            "\n",
            "\n",
            "\u001b[1m> Entering new GraphCypherQAChain chain...\u001b[0m\n",
            "Generated Cypher:\n",
            "\u001b[32;1m\u001b[1;3mMATCH (m:Movie) WHERE m.imdbRating > 8 RETURN m.title  \n",
            "\u001b[0m\n",
            "Full Context:\n",
            "\u001b[32;1m\u001b[1;3m[{'m.title': 'Toy Story'}, {'m.title': 'Heat'}, {'m.title': 'Casino'}, {'m.title': 'Twelve Monkeys (a.k.a. 12 Monkeys)'}, {'m.title': 'Seven (a.k.a. Se7en)'}, {'m.title': 'Usual Suspects, The'}, {'m.title': 'Hate (Haine, La)'}, {'m.title': 'Braveheart'}, {'m.title': 'Taxi Driver'}, {'m.title': 'Anne Frank Remembered'}]\u001b[0m\n",
            "\n",
            "\u001b[1m> Finished chain.\u001b[0m\n"
          ]
        },
        {
          "output_type": "execute_result",
          "data": {
            "text/plain": [
              "{'query': 'Give me the list of movie having imdb rating more than 8',\n",
              " 'result': \"I don't know the answer. \\n\"}"
            ]
          },
          "metadata": {},
          "execution_count": 36
        }
      ]
    },
    {
      "cell_type": "code",
      "source": [
        "examples = [\n",
        "    {\n",
        "        \"question\": \"How many artists are there?\",\n",
        "        \"query\": \"MATCH (a:Person)-[:ACTED_IN]->(:Movie) RETURN count(DISTINCT a)\",\n",
        "    },\n",
        "    {\n",
        "        \"question\": \"Which actors played in the movie Casino?\",\n",
        "        \"query\": \"MATCH (m:Movie {{title: 'Casino'}})<-[:ACTED_IN]-(a) RETURN a.name\",\n",
        "    },\n",
        "    {\n",
        "        \"question\": \"How many movies has Tom Hanks acted in?\",\n",
        "        \"query\": \"MATCH (a:Person {name: 'Tom Hanks'})-[:ACTED_IN]->(m:Movie) RETURN count(m)\",\n",
        "    },\n",
        "    {\n",
        "        \"question\": \"List all the genres of the movie Schindler's List\",\n",
        "        \"query\": \"MATCH (m:Movie {{title: 'Schindler\\\\'s List'}})-[:IN_GENRE]->(g:Genre) RETURN g.name\",\n",
        "    },\n",
        "    {\n",
        "        \"question\": \"Which actors have worked in movies from both the comedy and action genres?\",\n",
        "        \"query\": \"MATCH (a:Person)-[:ACTED_IN]->(:Movie)-[:IN_GENRE]->(g1:Genre), (a)-[:ACTED_IN]->(:Movie)-[:IN_GENRE]->(g2:Genre) WHERE g1.name = 'Comedy' AND g2.name = 'Action' RETURN DISTINCT a.name\",\n",
        "    },\n",
        "    {\n",
        "        \"question\": \"Which directors have made movies with at least three different actors named 'John'?\",\n",
        "        \"query\": \"MATCH (d:Person)-[:DIRECTED]->(m:Movie)<-[:ACTED_IN]-(a:Person) WHERE a.name STARTS WITH 'John' WITH d, COUNT(DISTINCT a) AS JohnsCount WHERE JohnsCount >= 3 RETURN d.name\",\n",
        "    },\n",
        "    {\n",
        "        \"question\": \"Identify movies where directors also played a role in the film.\",\n",
        "        \"query\": \"MATCH (p:Person)-[:DIRECTED]->(m:Movie), (p)-[:ACTED_IN]->(m) RETURN m.title, p.name\",\n",
        "    },\n",
        "    {\n",
        "        \"question\": \"Find the actor with the highest number of movies in the database.\",\n",
        "        \"query\": \"MATCH (a:Actor)-[:ACTED_IN]->(m:Movie) RETURN a.name, COUNT(m) AS movieCount ORDER BY movieCount DESC LIMIT 1\",\n",
        "    },\n",
        "]"
      ],
      "metadata": {
        "id": "G0u93nW-_Sy7"
      },
      "execution_count": null,
      "outputs": []
    }
  ]
}